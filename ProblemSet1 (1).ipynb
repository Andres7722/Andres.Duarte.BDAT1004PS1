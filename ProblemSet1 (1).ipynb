{
 "cells": [
  {
   "cell_type": "markdown",
   "id": "187a8e14-d74f-478d-8d8e-233edff17d5d",
   "metadata": {},
   "source": [
    "# Problem Set 1\n",
    "\n",
    "## Question 1.\n",
    "     What data type is each of the following?\n",
    "\n",
    "- **5** : `int` (whole number)\r\n",
    "\r\n",
    "- **5.0** : `double` (floating point number)\r\n",
    "\r\n",
    "- **5 > 1** : `bool` (true or false)\r\n",
    "\r\n",
    "- **'5'** : `char` (only one character)\r\n",
    "\r\n",
    "- **5 * 2** : `int` (whole number)\r\n",
    "\r\n",
    "- **'5' * 2** : error (multiplication between char and numerics is not allowed.)\r\n",
    "\r\n",
    "- **'5' + '2'** : `string` (string characters)\r\n",
    "\r\n",
    "- **5 / 2** : `double` (floating point number)\r\n",
    "\r\n",
    "- **5 % 2** : `int` (remainder of the division)\r\n",
    "\r\n",
    "- **{5, 2, 1}** : is not a data type (it is an array)\r\n",
    "\r\n",
    "- **5 == 3** : `bool` (true or false)\r\n",
    "\r\n",
    "- **Pi** : `double` (is not a data type, it is an array)\r\n",
    "\n",
    "the number)\n"
   ]
  },
  {
   "cell_type": "markdown",
   "id": "1f86dc41-5cd8-438e-9b6a-08abb3217836",
   "metadata": {},
   "source": [
    "## Question 2\n",
    "### Write (and evaluate) C# expressions that answer these questions:\n",
    "        a. How many letters are there in 'Supercalifragilisticexpialidocious'?\n",
    "    "
   ]
  },
  {
   "cell_type": "code",
   "execution_count": 20,
   "id": "24449c1b-b37d-4afd-a5b0-7aa32491f81a",
   "metadata": {},
   "outputs": [
    {
     "name": "stdout",
     "output_type": "stream",
     "text": [
      "34\n"
     ]
    }
   ],
   "source": [
    "string word = \"Supercalifragilisticexpialidocious\";\n",
    "        \n",
    "int i = 0; // Starting index\n",
    "while (i < word.Length) // The length of i must be shorter than the length of the word\n",
    "        {\n",
    "            i++; // Moves on to the next index\n",
    "        }\n",
    "        Console.WriteLine(i);\n"
   ]
  },
  {
   "cell_type": "markdown",
   "id": "f4e380ef-a686-45c0-b4f3-367c51e00144",
   "metadata": {},
   "source": [
    "### Write (and evaluate) C# expressions that answer these questions:\n",
    "        b. Does 'Supercalifragilisticexpialidocious' contain 'ice' as a substring?"
   ]
  },
  {
   "cell_type": "code",
   "execution_count": 30,
   "id": "a9b90565-2192-41d5-8ed3-743dce1b0f5f",
   "metadata": {},
   "outputs": [
    {
     "name": "stdout",
     "output_type": "stream",
     "text": [
      "The word contian ice as a substring\n"
     ]
    }
   ],
   "source": [
    "string word = \"Supercalifragilisticexpialidocious\";\n",
    "        char[] charArray = new char[word.Length]; // An array is created\n",
    "       \n",
    "        for (int i = 0; i < word.Length; i++) // A for loop is used to populate the array\n",
    "        {\n",
    "            charArray[i] = word[i];\n",
    "        }\n",
    "        for (int j = 0; j < word.Length; j++)\n",
    "        {\n",
    "            char letra = 'i';\n",
    "             if (charArray[j] == letra) // If loops are used to check each letter in order\n",
    "                {\n",
    "                              int k= j+1;\n",
    "                              char letra2 = 'c';\n",
    "                                if (charArray[k] == letra2)\n",
    "                                                      {\n",
    "                                                        int l = k+1;\n",
    "                                                        char letra3 = 'e';\n",
    "                                                         if (charArray[l] == letra3)\n",
    "                                                         {\n",
    "                                                           Console.WriteLine(\"The word contian ice as a substring\");\n",
    "                                                         }\n",
    "                                                         else\n",
    "                                                         {\n",
    "                                                           Console.WriteLine(\"The word doesnt contian ice as a substring\");\n",
    "                                                         }\n",
    "                                                      }              \n",
    "                } \n",
    "         }\n"
   ]
  },
  {
   "cell_type": "markdown",
   "id": "c246a27a-c0b0-4c41-8160-dff7b1826c4b",
   "metadata": {},
   "source": [
    "### Write (and evaluate) C# expressions that answer these questions:\n",
    "        c. Which of the following words is the longest: Supercalifragilisticexpialidocious, Honorificabilitudinitatibus, or Bababadalgharaghtakamminarronnkonn?"
   ]
  },
  {
   "cell_type": "code",
   "execution_count": 35,
   "id": "579995ac-6c4e-40df-a4e4-99ed721f2368",
   "metadata": {},
   "outputs": [
    {
     "name": "stdout",
     "output_type": "stream",
     "text": [
      "none is the longest word\n"
     ]
    }
   ],
   "source": [
    "string word1 = \"Supercalifragilisticexpialidocious\";\n",
    "string word2 = \"Honorificabilitudinitatibus\";\n",
    "string word3 = \"Bababadalgharaghtakamminarronnkonn\";\n",
    "        \n",
    "        int i = 0; \n",
    "\n",
    "        while (i < word1.Length) // While loops are used to count the number of letters in each word\n",
    "        {\n",
    "            i++; \n",
    "        }\n",
    "        int j = 0; \n",
    "\n",
    "        while (j < word2.Length) \n",
    "        {\n",
    "            j++; \n",
    "        }    \n",
    "        int k = 0; \n",
    "\n",
    "        while (k < word3.Length) \n",
    "        {\n",
    "            k++;\n",
    "        }\n",
    "        if (i > j && i > k) // If else if loops are used to display each possible result\n",
    "        {\n",
    "        Console.WriteLine(\"Supercalifragilisticexpialidocious is the longest word\");\n",
    "        }\n",
    "        else if (j > i && j > k)\n",
    "        {\n",
    "        Console.WriteLine(\"Honorificabilitudinitatibus is the longest word\");\n",
    "        }\n",
    "        else if (k > i && k > j)\n",
    "        {\n",
    "        Console.WriteLine(\"Bababadalgharaghtakamminarronnkonn is the longest word\");\n",
    "        }\n",
    "        else // If there is more than one word with the highest number of letters it will be displayed that there is no word with more letters than the others\n",
    "        {\n",
    "        Console.WriteLine(\"none is the longest word\");\n",
    "        }\n"
   ]
  },
  {
   "cell_type": "markdown",
   "id": "4915af7b-f8b3-4f51-ae82-5f82b5fe66c8",
   "metadata": {},
   "source": [
    "### Write (and evaluate) C# expressions that answer these questions:\n",
    "        d. Which composer comes first in the dictionary: 'Berlioz', 'Borodin', 'Brian', 'Bartok', 'Bellini', 'Buxtehude', 'Bernstein'. Which one comes last?\n",
    "\n",
    " ### StackOverflow link for this section: https://stackoverflow.com/questions/188141/listt-orderby-alphabetical-order/188155#188155"
   ]
  },
  {
   "cell_type": "code",
   "execution_count": 49,
   "id": "9f8fbb4b-45a7-4c30-a60c-0de5c220d1d3",
   "metadata": {},
   "outputs": [
    {
     "name": "stdout",
     "output_type": "stream",
     "text": [
      "Bartok\n",
      "Bellini\n",
      "Berlioz\n",
      "Bernstein\n",
      "Borodin\n",
      "Brian\n",
      "Buxtehude\n"
     ]
    }
   ],
   "source": [
    "string[] names = { \"Berlioz\", \"Borodin\", \"Brian\", \"Bartok\", \"Bellini\", \"Buxtehude\", \"Bernstein\"};\r\n",
    "\r\n",
    "        for (int i = 0; i < names.Length - 1; i++)\r\n",
    "        {\r\n",
    "            for (int j = i + 1; j < names.Length; j++)\r\n",
    "            {\r\n",
    "                 if (String.Compare(names[i], names[j] // Reorder the names alphabetically) > 0)\r\n",
    "                {\r\n",
    "                    string sortnames = names[i];\r\n",
    "                    names[i] = names[j];\r\n",
    "                    names[j] = sortnames;\r\n",
    "                }\r\n",
    "            }\r\n",
    "        }       \r\n",
    "        for (int i = 0; i < name  // Shows the new naming arrays.Length; i++)\r\n",
    "        {\r\n",
    "            Console.WriteLine(names[i]);\r\n",
    "        }"
   ]
  },
  {
   "cell_type": "markdown",
   "id": "c896a7e7-6f49-4df5-a13f-b0748d1bcabc",
   "metadata": {},
   "source": [
    "## Question 3\n",
    "        a. Implement function triangleArea(a,b,c) that takes as input the lengths of the 3 sides of a triangle and returns the area of the triangle. By Heron's formula, the area of a triangle with side lengths a, b, and c is s(s − a)(s − b)(s − c)2\n",
    "\n",
    "### StackOverflow link for this section: https://stackoverflow.com/questions/32549394/c-sharp-math-sqrt-returning-decimals55\n",
    "."
   ]
  },
  {
   "cell_type": "code",
   "execution_count": 64,
   "id": "cd8ed934-ff91-4847-a1ff-7c4443548520",
   "metadata": {},
   "outputs": [
    {
     "name": "stdout",
     "output_type": "stream",
     "text": [
      "The area of the triangle is 1.7320508075688772\n"
     ]
    }
   ],
   "source": [
    "        double a = 2.0;   // Defining variables\n",
    "        double b = 2.0;\n",
    "        double c = 2.0;\n",
    "        TriangleArea(a, b, c);\n",
    "\n",
    "    void TriangleArea(double a, double b, double c)  // Function to calculate numerical value of area\n",
    "    {\n",
    "        double s = (a + b + c) / 2;\n",
    "        double HeronF = s * (s - a) * (s - b) * (s - c);\n",
    "        double area = Math.Sqrt(HeronF);\n",
    "\n",
    "        Console.WriteLine(\"The area of the triangle is \" + area);\n",
    "    }\n"
   ]
  },
  {
   "cell_type": "markdown",
   "id": "ee370363-094d-4e35-af49-b970fc23d0ec",
   "metadata": {},
   "source": [
    "## Question 4\r\n",
    "\r\n",
    "Write a program in C# Sharp to separate odd and even integers in separate arrays.\r\n",
    "\r\n",
    "Input the number of elements to be stored in the array: 5\r\n",
    "\r\n",
    "Input 5 elements in the array.\r\n",
    "\r\n",
    "The Even elements are: 42 56 32.\r\n",
    "\r\n",
    "The Odd elements arert-returning-decimals"
   ]
  },
  {
   "cell_type": "code",
   "execution_count": 77,
   "id": "c50ed357-575a-488b-a2a7-18686d3f7b57",
   "metadata": {},
   "outputs": [
    {
     "name": "stdout",
     "output_type": "stream",
     "text": [
      "The Even elements are:\n",
      "42 56 32 \n",
      "The Odd elements are :\n",
      "25 47 "
     ]
    }
   ],
   "source": [
    "int[] numbers = new int[5];  // Array of length 5 is created\n",
    "\n",
    "        numbers[0] = 25;\n",
    "        numbers[1] = 47;\n",
    "        numbers[2] = 42;\n",
    "        numbers[3] = 56;\n",
    "        numbers[4] = 32;\n",
    "        List<int> even = new List<int>();  // The lists are created where the numbers will be placed according to the criteria\n",
    "        List<int> odd = new List<int>();\n",
    "        for (int i = 0; i < 5; i ++)\n",
    "        {\n",
    "        int n = numbers[i];\n",
    "        \n",
    "        if (n%2==0)  // The numbers are separated in their respective list\n",
    "        { \n",
    "        even.Add(n); \n",
    "        }\n",
    "        else\n",
    "        { \n",
    "        odd.Add(n); \n",
    "        }\n",
    "        }\n",
    "        Console.WriteLine(\"The Even elements are:\");\n",
    "        for (int i = 0; i < even.Count; i++)\n",
    "        {\n",
    "        Console.Write(even[i]); // The numbers are shown\n",
    "        Console.Write(\" \"); // Blanks are created\n",
    "        }\n",
    "        Console.WriteLine();\n",
    "        Console.WriteLine(\"The Odd elements are :\");\n",
    "        for (int i = 0; i < odd.Count; i++)\n",
    "        {\n",
    "        Console.Write(odd[i]);\n",
    "        Console.Write(\" \");\n",
    "        }\n"
   ]
  },
  {
   "cell_type": "markdown",
   "id": "47c66a1b-acb7-4957-9e7d-bf02da995d29",
   "metadata": {},
   "source": [
    "## Question 5 \n",
    "       a. Write a function inside(x,y,x1,y1,x2,y2) that returns True or False depending on whether the point (x,y) lies in the rectangle with lower left corner (x1,y1) and upper right corner (x2,y2).\n",
    "       \n"
   ]
  },
  {
   "cell_type": "code",
   "execution_count": 81,
   "id": "efc0616d-a332-47e7-8e6e-c89db2f84330",
   "metadata": {},
   "outputs": [
    {
     "name": "stdout",
     "output_type": "stream",
     "text": [
      ">>> inside(-1,-1,0,0,2,3)\n",
      "False\n"
     ]
    }
   ],
   "source": [
    "        double x = -1;  // The necessary variables are created\n",
    "        double y = -1;\n",
    "        double x1 = 0;\n",
    "        double y1 = 0;\n",
    "        double x2 = 2;\n",
    "        double y2 = 3;\n",
    "        bool result = Inside(x, y, x1, y1, x2, y2); // Boolean function is created to test if the point is or not in the triangle\n",
    "\n",
    "        static bool Inside(double x, double y, double x1, double y1, double x2, double y2)\n",
    "        {\n",
    "        bool xt = x >= x1 && x <= x2;  // Axis to axis is checked to see if the point is inside\n",
    "        bool yt = y >= y1 && y <= y2;\n",
    "        bool it = xt && yt;\n",
    "        return (it);\n",
    "        }\n",
    "        Console.WriteLine(\">>> inside(\" + x + \",\" + y + \",\" + x1 + \",\" + y1 + \",\" + x2 + \",\" + y2 + \")\");\n",
    "        Console.WriteLine(result);"
   ]
  },
  {
   "cell_type": "markdown",
   "id": "28b1eafb-5b31-4bb5-a4ed-9d662d2b4672",
   "metadata": {},
   "source": [
    "        b. Use function inside() from part a. to write an expression that tests whether the point (1,1) lies in both of the following rectangles: one with lower left corner (0.3, 0.5) and upper right corner (1.1, 0.7) and the other with lower left corner (0.5, 0.2) and upper right corner (1.1, 2)."
   ]
  },
  {
   "cell_type": "code",
   "execution_count": 86,
   "id": "da7094f1-d9cf-4a1c-bf44-df1557ba0e68",
   "metadata": {},
   "outputs": [
    {
     "name": "stdout",
     "output_type": "stream",
     "text": [
      ">>> inside(1,1,0.3,0.5,1.1,0.7)\n",
      "False\n"
     ]
    }
   ],
   "source": [
    "        double x = 1;    // Different values are assigned to the variables\n",
    "        double y = 1;\n",
    "        double x1 = 0.3;\n",
    "        double y1 = 0.5;\n",
    "        double x2 = 1.1;\n",
    "        double y2 = 0.7;\n",
    "        bool result = Inside(x, y, x1, y1, x2, y2);\n",
    "\n",
    "        static bool Inside(double x, double y, double x1, double y1, double x2, double y2)\n",
    "        {\n",
    "        bool xt = x >= x1 && x <= x2;\n",
    "        bool yt = y >= y1 && y <= y2;\n",
    "        bool it = xt && yt;\n",
    "        return (it);\n",
    "        }\n",
    "        Console.WriteLine(\">>> inside(\" + x + \",\" + y + \",\" + x1 + \",\" + y1 + \",\" + x2 + \",\" + y2 + \")\");\n",
    "        Console.WriteLine(result);\n"
   ]
  },
  {
   "cell_type": "code",
   "execution_count": 88,
   "id": "a38d4b50-fc58-40d5-b576-3b46238c0fe8",
   "metadata": {},
   "outputs": [
    {
     "name": "stdout",
     "output_type": "stream",
     "text": [
      ">>> inside(1,1,0.5,0.2,1.1,2)\n",
      "True\n"
     ]
    }
   ],
   "source": [
    "\n",
    "        double x = 1;\n",
    "        double y = 1;\n",
    "        double x1 = 0.5;\n",
    "        double y1 = 0.2;\n",
    "        double x2 = 1.1;\n",
    "        double y2 = 2.0;\n",
    "        bool result = Inside(x, y, x1, y1, x2, y2);\n",
    "            \n",
    "        static bool Inside(double x, double y, double x1, double y1, double x2, double y2)\n",
    "        {\n",
    "        bool xt = x >= x1 && x <= x2;\n",
    "        bool yt = y >= y1 && y <= y2;\n",
    "        bool it = xt && yt;\n",
    "        return (it);\n",
    "        }\n",
    "        Console.WriteLine(\">>> inside(\" + x + \",\" + y + \",\" + x1 + \",\" + y1 + \",\" + x2 + \",\" + y2 + \")\");\n",
    "        Console.WriteLine(result);"
   ]
  },
  {
   "cell_type": "markdown",
   "id": "b4bab79e-ab90-4a52-b3d1-c39c0a60e5f6",
   "metadata": {},
   "source": [
    "## Question 6 Python\n",
    " You can turn a word into pig-Latin using the following two rules (simplified):\n",
    "\n",
    "    \r\n",
    "• If the word starts with a consonant, move that letter to the end and append 'ay'. For example, 'happy' becomes 'appyhay' and 'pencil' becomes 'encilpay'\n",
    "\n",
    ".\r\n",
    "• If the word starts with a vowel, simply append 'way' to the end of the word. For example, 'enter' becomes 'enterway' and 'other' becomes 'otherway' . For our purposes, there are 5 vowels: a, e, i, o, u (so we count y as a consonant)\n",
    "\n",
    ".\r\n",
    "Write a function pig() that takes a word (i.e., a string) as input and returns its pig- Latin form. Your function should still work if the input word contains upper case characters. Your output should always be lower case howeverals\n"
   ]
  },
  {
   "cell_type": "code",
   "execution_count": 12,
   "id": "a013b592-96cd-419b-a8c5-7734d06f4119",
   "metadata": {},
   "outputs": [
    {
     "name": "stdout",
     "output_type": "stream",
     "text": [
      "appyhay\n",
      "enterway\n"
     ]
    }
   ],
   "source": [
    "def pig(word):  # Defining the function\n",
    "    word = word.lower()    # Converting all letters to lowercase letters\n",
    "    if word[0] in 'aeiou':  # If loop separates words that begin with a vowel and words that do not begin with a vowel\n",
    "        return word + 'way' \n",
    "    return word[1:len(word)] + word[0] + 'ay'  \n",
    "print(pig('happy')) \n",
    "print(pig('Enter'))"
   ]
  },
  {
   "cell_type": "markdown",
   "id": "8d5f4841-6757-4b5e-b8b5-08672fe1b3eb",
   "metadata": {},
   "source": [
    "## Question 7 Python\n",
    "        File bloodtype1.txt records blood-types of patients (A, B, AB, O or OO) at a clinic. Write a function bldcount() that reads the file with name name and reports (i.e., prints) how many patients there are in each bloodtype."
   ]
  },
  {
   "cell_type": "code",
   "execution_count": 34,
   "id": "13dea3ea-86f4-4fd1-a88b-397391329970",
   "metadata": {},
   "outputs": [
    {
     "name": "stdout",
     "output_type": "stream",
     "text": [
      "There are 15 patients of blood type O.\n",
      "There are 15 patients of blood type A.\n",
      "There is 1 patients of blood type B.\n",
      "There are 13 patients of blood type AB.\n",
      "There are 0 patients of blood type OO.\n"
     ]
    }
   ],
   "source": [
    "def bloodcount(filename):             # The variables are created\n",
    "    countO = 0\n",
    "    countA = 0\n",
    "    countB = 0\n",
    "    countAB = 0\n",
    "    countOO = 0\n",
    "    openFile = open(filename, 'r')    # Open the file\n",
    "    for type in openFile:             # Counts are created for each type by for\n",
    "        countO += type.count('O')\n",
    "        countA += type.count('A ')\n",
    "        countB += type.count(' B')\n",
    "        countAB += type.count('AB')\n",
    "        countOO += type.count('OO')\n",
    "    return countO, countA, countB, countAB, countOO\n",
    "    countA, countO, countB, countAB, countOO = bloodcount('C:/Users/juana/Downloads/bloodtype1.txt')  # Data is imported from the downloaded file\n",
    "print(\"There are\", countO, \"patients of blood type O.\")\n",
    "print(\"There are\", countA, \"patients of blood type A.\")\n",
    "print(\"There is\", countB, \"patients of blood type B.\")\n",
    "print(\"There are\", countAB, \"patients of blood type AB.\")\n",
    "print(\"There are\", countOO, \"patients of blood type OO.\")"
   ]
  },
  {
   "cell_type": "markdown",
   "id": "490e4bed-7eaf-472f-a8f3-2ece2651b7d0",
   "metadata": {},
   "source": [
    "## Question 8 Python\n",
    "        Write a function curconv() that takes as input:\n",
    "\r\n",
    "1. a currency represented using a string (e.g., 'JPY' for the Japanese Yen or 'EUR' for the Euro\n",
    ")2\n",
    "2. an amou\n",
    "nt\r\n",
    "and then converts and returns the amount in US dollars."
   ]
  },
  {
   "cell_type": "code",
   "execution_count": 39,
   "id": "0b670965-2b02-4987-9d18-f1281d1659c7",
   "metadata": {},
   "outputs": [
    {
     "name": "stdout",
     "output_type": "stream",
     "text": [
      "122.96544\n",
      "1.241401\n"
     ]
    }
   ],
   "source": [
    "exchangeRates = {               # The exchange rates of each currency are defined in a dictionary\n",
    "    'AUD': 1.0345157,\n",
    "    'CHF': 1.0237414,\n",
    "    'CNY': 0.1550176,\n",
    "    'DKK': 0.1651442,\n",
    "    'EUR': 1.2296544,\n",
    "    'GBP': 1.5550989,\n",
    "    'HKD': 0.1270207,\n",
    "    'INR': 0.0177643,\n",
    "    'JPY': 0.01241401,\n",
    "    'MXN': 0.0751848,\n",
    "    'MYR': 0.3145411,\n",
    "    'NOK': 0.1677063,\n",
    "    'NZD': 0.8003591,\n",
    "    'PHP': 0.0233234,\n",
    "    'SEK': 0.148269,\n",
    "    'SGD': 0.788871,\n",
    "    'THB': 0.0313789,\n",
    "}\n",
    "\n",
    "def curconv(currency, amount):     # The function that will return the currency conversion is created\n",
    "    return amount * exchangeRates[currency]\n",
    "print(curconv('EUR', 100))\n",
    "print(curconv('JPY', 100))"
   ]
  },
  {
   "cell_type": "markdown",
   "id": "cf52a3e4-d970-4a90-9371-2e1d54cdc87b",
   "metadata": {
    "jp-MarkdownHeadingCollapsed": true
   },
   "source": [
    "## Question 9 Python\r\n",
    "Each of the following will cause an exception (an error). Identify what type of exception each will cause\n",
    "\n",
    "-**Error: TypeError**  Trying to add incompatible variables, as in adding 6 + ‘a.’r\n",
    "\n",
    "   - **Error: IndexErro** \n",
    "Referring to the 12th item of a list that has only 10 ite.m\n",
    "\n",
    "\n",
    "\n",
    "- **Error: ValueError** \r\n",
    "Using a value that is out of range for a function’s input, such as calling math.sqrt(-.0o\n",
    "r\n",
    "- **Error: NameErrori**\n",
    ")\r\n",
    "Using an undeclared variable, such as print x)\r\n",
    "when x has not beenned. \n",
    "ro- **Error: IOError**ined\r\n",
    "Trying to open a file that does not exist, such as mistyping the file name or looking in the .oErory.."
   ]
  },
  {
   "cell_type": "markdown",
   "id": "0c3594b8-5fc9-429d-a6a5-b65e07f65253",
   "metadata": {},
   "source": [
    "## Question 10 Python\n",
    "Write a function called frequencies() that takes a string as its only parameter, and returns a list of integers, showing the number of times each character appears in the text. Your function may ignore any characters that are not in letters."
   ]
  },
  {
   "cell_type": "code",
   "execution_count": 60,
   "id": "327add90-6676-4fac-ae22-00fcaefbe640",
   "metadata": {},
   "outputs": [
    {
     "name": "stdout",
     "output_type": "stream",
     "text": [
      "[1, 1, 1, 3, 5, 1, 1, 2, 1, 0, 1, 0, 1, 2, 4, 0, 1, 2, 0, 3, 1, 0, 1, 1, 0, 0]\n"
     ]
    }
   ],
   "source": [
    "def frequencies(text):\n",
    "    alphabet = 'abcdefghijklmnopqrstuvwxyz'\n",
    "    count = [0] * 26  # List to count the frequency of each letter\n",
    "    \n",
    "    for char in text:\n",
    "        if char.lower() in alphabet:  # Verifies which characters are letters\n",
    "            index = alphabet.index(char.lower())  \n",
    "            count[index] += 1  # Increments the counter for each letter  \n",
    "    return count\n",
    "\n",
    "countLetter = frequencies('The quick red fox got bored and went home.')\n",
    "print(countLetter)"
   ]
  },
  {
   "cell_type": "code",
   "execution_count": null,
   "id": "e7b22eb8-1ae4-4d41-bea0-f79bd15d66f5",
   "metadata": {},
   "outputs": [],
   "source": []
  }
 ],
 "metadata": {
  "kernelspec": {
   "display_name": "Python 3 (ipykernel)",
   "language": "python",
   "name": "python3"
  },
  "language_info": {
   "codemirror_mode": {
    "name": "ipython",
    "version": 3
   },
   "file_extension": ".py",
   "mimetype": "text/x-python",
   "name": "python",
   "nbconvert_exporter": "python",
   "pygments_lexer": "ipython3",
   "version": "3.12.4"
  }
 },
 "nbformat": 4,
 "nbformat_minor": 5
}
